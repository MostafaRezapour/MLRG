{
 "cells": [
  {
   "cell_type": "markdown",
   "metadata": {},
   "source": [
    "# Introduction to Python"
   ]
  },
  {
   "cell_type": "markdown",
   "metadata": {},
   "source": [
    "Python is an object-oriented, interpreted, high-level, general purpose programming language. \n",
    "Python is a very versatile language that has implementations ranging from machine learning and a.i., scientific simulations and computing, database management, robotics, web frameworks, server management, and mobile application development."
   ]
  },
  {
   "cell_type": "markdown",
   "metadata": {},
   "source": [
    "# Installation"
   ]
  },
  {
   "cell_type": "markdown",
   "metadata": {},
   "source": [
    "Many operating systems include Python as standard, including macOS, and most Linux distributions. <br/> \n",
    "In the above situations, Python can be ran from the terminal by simply typing, for example 'python3', 'python3 --version' into the terminal. <br/>\n",
    "MacOS and many Linux distributions also ship with the Python integrated development environment, IDLE, which for Python 3 can be accessed via the terminal as 'IDLE3' <br/>\n",
    "The latest version of Python can be downloaded for Windows, or the above mentioned os's from <br/>\n",
    "https://www.python.org/downloads/ <br/>\n",
    "For more information on using Python <br/>\n",
    "https://docs.python.org/3/contents.html <br/>\n",
    "I personally like Anaconda/Anaconda Navigator <br/>\n",
    "https://www.anaconda.com/products/individual <br/>\n",
    "Anaconda comes with Python and makes the installation and management of Python and common packages pretty easy, and without the using alot of command-line work. Installers are available for Mac, Windows, and Linux Distributions. <br/>\n",
    "I will also use a Jupyter Notebook for today presentation (also comes with Anaconda Navigator). Information on installing Jupyter Software can be found at <br/>\n",
    "https://jupyter.org/install <br/>\n",
    "In Jupyter Notebooks we can use Markdown Language to display contents of a cell in a nice printed form. There is alot of things that Markdown can do for us, including taking some LaTeX commands. A Markdown cheatsheet can be found at <br/>\n",
    "https://github.com/adam-p/markdown-here/wiki/Markdown-Cheatsheet"
   ]
  },
  {
   "cell_type": "markdown",
   "metadata": {},
   "source": [
    "# Common Packages"
   ]
  },
  {
   "cell_type": "markdown",
   "metadata": {},
   "source": [
    "NumPy: The fundamental package for scientific computing with Python <br/>\n",
    "SciPy: A Python-based ecosystem of open-source software for mathematics, science, and engineering <br/>\n",
    "Pandas: Data structure and analysis tool in Python <br/>\n",
    "Matplotlib: Comprehensive library for creating static, animated, and interactive visualizations in Python <br/>\n",
    "scikit-learn, Tensorflow, PyTorch: Popular machine learning librarys for Python <br/>"
   ]
  },
  {
   "cell_type": "markdown",
   "metadata": {},
   "source": [
    "https://numpy.org <br/>\n",
    "https://www.scipy.org <br/>\n",
    "https://matplotlib.org <br/>\n",
    "    https://pandas.pydata.org/docs/user_guide/index.html"
   ]
  },
  {
   "cell_type": "code",
   "execution_count": 171,
   "metadata": {},
   "outputs": [
    {
     "name": "stdout",
     "output_type": "stream",
     "text": [
      "3.141592653589793\n",
      "0.0\n"
     ]
    }
   ],
   "source": [
    "#import Numpy\n",
    "import numpy as np\n",
    "\n",
    "y=np.pi #whenever we need to call something from Numpy we just use np now\n",
    "print(y)\n",
    "print(np.sin(0))"
   ]
  },
  {
   "cell_type": "code",
   "execution_count": 172,
   "metadata": {},
   "outputs": [],
   "source": [
    "from scipy import stats # this means the stats library from scipy"
   ]
  },
  {
   "cell_type": "code",
   "execution_count": 173,
   "metadata": {},
   "outputs": [
    {
     "data": {
      "text/plain": [
       "0.5"
      ]
     },
     "execution_count": 173,
     "metadata": {},
     "output_type": "execute_result"
    }
   ],
   "source": [
    "stats.norm.cdf(0) # The cdf of the normal distribution evaluated at 0"
   ]
  },
  {
   "cell_type": "markdown",
   "metadata": {},
   "source": [
    "# Variables"
   ]
  },
  {
   "cell_type": "code",
   "execution_count": 175,
   "metadata": {},
   "outputs": [
    {
     "name": "stdout",
     "output_type": "stream",
     "text": [
      "<class 'int'>\n",
      "<class 'int'>\n",
      "11\n",
      "<class 'float'>\n",
      "8.5094\n"
     ]
    }
   ],
   "source": [
    "# Numbers: integers and floats(decimals) and complex numbers\n",
    "\n",
    "x = 2\n",
    "y = 3**2 # same as 3 squared\n",
    "\n",
    "print(type(x)) #print what type x is\n",
    "print(type(y))\n",
    "print(x + y)\n",
    "\n",
    "z = 3.14\n",
    "w = 2.71\n",
    "t = z * w\n",
    "\n",
    "print(type(z))\n",
    "print(t) #single asterick is multiplication"
   ]
  },
  {
   "cell_type": "code",
   "execution_count": 176,
   "metadata": {},
   "outputs": [
    {
     "name": "stdout",
     "output_type": "stream",
     "text": [
      "<class 'complex'>\n",
      "<class 'complex'>\n",
      "(6+3j)\n"
     ]
    }
   ],
   "source": [
    "#Complex Numbers\n",
    "\n",
    "q = 2 + 3j\n",
    "r = 4 \n",
    "\n",
    "print(type(q))\n",
    "print(type(q + r))\n",
    "print(q + r)"
   ]
  },
  {
   "cell_type": "code",
   "execution_count": 177,
   "metadata": {},
   "outputs": [
    {
     "name": "stdout",
     "output_type": "stream",
     "text": [
      "(3.14+0j)\n"
     ]
    }
   ],
   "source": [
    "#####   We can set specific types, too. Sometimes called 'casting'\n",
    "\n",
    "zz = complex(z)\n",
    "print(zz)"
   ]
  },
  {
   "cell_type": "code",
   "execution_count": 178,
   "metadata": {},
   "outputs": [
    {
     "name": "stdout",
     "output_type": "stream",
     "text": [
      "2\n",
      "2.0\n"
     ]
    }
   ],
   "source": [
    "print(x)\n",
    "xx = float(x)\n",
    "print(xx)"
   ]
  },
  {
   "cell_type": "code",
   "execution_count": 179,
   "metadata": {},
   "outputs": [
    {
     "name": "stdout",
     "output_type": "stream",
     "text": [
      "9\n",
      "9\n",
      "<class 'str'>\n"
     ]
    }
   ],
   "source": [
    "print(y)\n",
    "yy = str(y)\n",
    "print(yy)\n",
    "print(type(yy))"
   ]
  },
  {
   "cell_type": "code",
   "execution_count": 180,
   "metadata": {},
   "outputs": [
    {
     "ename": "TypeError",
     "evalue": "can only concatenate str (not \"int\") to str",
     "output_type": "error",
     "traceback": [
      "\u001b[0;31m---------------------------------------------------------------------------\u001b[0m",
      "\u001b[0;31mTypeError\u001b[0m                                 Traceback (most recent call last)",
      "\u001b[0;32m<ipython-input-180-6a6748998a63>\u001b[0m in \u001b[0;36m<module>\u001b[0;34m\u001b[0m\n\u001b[0;32m----> 1\u001b[0;31m \u001b[0myy\u001b[0m\u001b[0;34m+\u001b[0m\u001b[0;36m3\u001b[0m\u001b[0;34m\u001b[0m\u001b[0;34m\u001b[0m\u001b[0m\n\u001b[0m",
      "\u001b[0;31mTypeError\u001b[0m: can only concatenate str (not \"int\") to str"
     ]
    }
   ],
   "source": [
    "yy+3"
   ]
  },
  {
   "cell_type": "code",
   "execution_count": 181,
   "metadata": {},
   "outputs": [
    {
     "name": "stdout",
     "output_type": "stream",
     "text": [
      "93\n",
      "93\n",
      "<class 'int'>\n"
     ]
    }
   ],
   "source": [
    "y2=str(3)\n",
    "print(yy+y2)\n",
    "\n",
    "y3=int(yy+y2)\n",
    "print(y3)\n",
    "\n",
    "print(type(y3))"
   ]
  },
  {
   "cell_type": "code",
   "execution_count": 182,
   "metadata": {},
   "outputs": [
    {
     "data": {
      "text/plain": [
       "bool"
      ]
     },
     "execution_count": 182,
     "metadata": {},
     "output_type": "execute_result"
    }
   ],
   "source": [
    "#Booleans\n",
    "\n",
    "m = True\n",
    "type(m)\n",
    "mm=False"
   ]
  },
  {
   "cell_type": "code",
   "execution_count": 184,
   "metadata": {},
   "outputs": [
    {
     "data": {
      "text/plain": [
       "str"
      ]
     },
     "execution_count": 184,
     "metadata": {},
     "output_type": "execute_result"
    }
   ],
   "source": [
    "n = 'true'\n",
    "type(n)"
   ]
  },
  {
   "cell_type": "code",
   "execution_count": 185,
   "metadata": {},
   "outputs": [
    {
     "name": "stdout",
     "output_type": "stream",
     "text": [
      "0\n",
      "2\n"
     ]
    }
   ],
   "source": [
    "print(m-1) # A booelan true equates to 1\n",
    "print(m+m)"
   ]
  },
  {
   "cell_type": "code",
   "execution_count": 186,
   "metadata": {},
   "outputs": [
    {
     "name": "stdout",
     "output_type": "stream",
     "text": [
      "True\n",
      "False\n"
     ]
    }
   ],
   "source": [
    "# Boolean types in python have a value of True or False. Boolean expressions are expressions that evaluate to Boolean values\n",
    "python = 'the best'\n",
    "# The == comparison operator checks if python is really equal to the string 'the best'\n",
    "print(python == 'the best')\n",
    "# The != comparison operator checks if python is not equal to the string 'the best'\n",
    "print(python != 'the best')"
   ]
  },
  {
   "cell_type": "code",
   "execution_count": 187,
   "metadata": {},
   "outputs": [
    {
     "name": "stdout",
     "output_type": "stream",
     "text": [
      "<class 'str'>\n",
      "<class 'str'>\n",
      "bo\n"
     ]
    }
   ],
   "source": [
    "#Characters and Strings\n",
    "\n",
    "#s = b\n",
    "s = 'b'\n",
    "t = \"o\"\n",
    "print(type(s))\n",
    "print(type(t))\n",
    "\n",
    "print(s + t)\n"
   ]
  },
  {
   "cell_type": "code",
   "execution_count": 189,
   "metadata": {},
   "outputs": [
    {
     "name": "stdout",
     "output_type": "stream",
     "text": [
      "<class 'str'>\n",
      "How is everyone doing today? \n",
      "everyone doing today? How is \n"
     ]
    }
   ],
   "source": [
    "u = \"How is \"\n",
    "v = \"everyone doing today? \"\n",
    "print(type(u))\n",
    "print(u + v)\n",
    "print(v + u)"
   ]
  },
  {
   "cell_type": "code",
   "execution_count": 190,
   "metadata": {},
   "outputs": [
    {
     "name": "stdout",
     "output_type": "stream",
     "text": [
      "There are more than 2 people \n",
      " in \n",
      " this \n",
      " room.\n"
     ]
    }
   ],
   "source": [
    "#concatenation of strings and other data types\n",
    "\n",
    "print(\"There are more than \" + str(x) + \" people \\n in \\n this \\n room.\")"
   ]
  },
  {
   "cell_type": "markdown",
   "metadata": {},
   "source": [
    "# Logic Structures"
   ]
  },
  {
   "cell_type": "code",
   "execution_count": 191,
   "metadata": {},
   "outputs": [
    {
     "name": "stdout",
     "output_type": "stream",
     "text": [
      "3 equals 3\n"
     ]
    }
   ],
   "source": [
    "# If statement\n",
    "\n",
    "x = 3\n",
    "if x > 3:\n",
    "    print(str(x) + \" is bigger than 3\")\n",
    "\n",
    "elif x == 3:\n",
    "    print(str(x) + \" equals 3\")\n",
    "\n",
    "else:\n",
    "    print(str(x) + \" isn't bigger than 3\")"
   ]
  },
  {
   "cell_type": "code",
   "execution_count": 192,
   "metadata": {},
   "outputs": [
    {
     "name": "stdout",
     "output_type": "stream",
     "text": [
      "4\n",
      "5\n",
      "6\n",
      "7\n",
      "8\n",
      "9\n",
      "10\n"
     ]
    }
   ],
   "source": [
    "# while statement\n",
    "while x < 10:\n",
    "    x += 1\n",
    "    print(x)"
   ]
  },
  {
   "cell_type": "code",
   "execution_count": 193,
   "metadata": {},
   "outputs": [
    {
     "name": "stdout",
     "output_type": "stream",
     "text": [
      "10\n"
     ]
    }
   ],
   "source": [
    "while x < 10:\n",
    "    x += 1\n",
    "print(x)"
   ]
  },
  {
   "cell_type": "code",
   "execution_count": 194,
   "metadata": {},
   "outputs": [
    {
     "name": "stdout",
     "output_type": "stream",
     "text": [
      "0\n",
      "1\n",
      "2\n",
      "3\n",
      "4\n"
     ]
    }
   ],
   "source": [
    "# for statement\n",
    "for i in range(5): #Python indices start with 0, range(n) return 0,1,2,...,n-1\n",
    "    print(i)"
   ]
  },
  {
   "cell_type": "code",
   "execution_count": 195,
   "metadata": {},
   "outputs": [
    {
     "name": "stdout",
     "output_type": "stream",
     "text": [
      "3\n",
      "4\n",
      "5\n",
      "6\n",
      "7\n"
     ]
    }
   ],
   "source": [
    "for i in range(3,8): #range(a,b) returns a, a+1, ... , b-1\n",
    "    print(i)"
   ]
  },
  {
   "cell_type": "code",
   "execution_count": 196,
   "metadata": {},
   "outputs": [
    {
     "name": "stdout",
     "output_type": "stream",
     "text": [
      "1\n",
      "4\n",
      "7\n",
      "10\n",
      "13\n",
      "16\n",
      "19\n",
      "22\n"
     ]
    }
   ],
   "source": [
    "for i in range(1,25,3): #start at 1 and goes to 25 by increment of 3\n",
    "    print(i)"
   ]
  },
  {
   "cell_type": "code",
   "execution_count": 197,
   "metadata": {},
   "outputs": [
    {
     "name": "stdout",
     "output_type": "stream",
     "text": [
      "Mom\n",
      "Dad\n",
      "Cat\n",
      "Dog\n"
     ]
    }
   ],
   "source": [
    "for i in (\"Mom\",\"Dad\",\"Cat\",\"Dog\"): #python allows us to index over more than numerals\n",
    "    print(i)\n"
   ]
  },
  {
   "cell_type": "markdown",
   "metadata": {},
   "source": [
    "# Lists"
   ]
  },
  {
   "cell_type": "code",
   "execution_count": 198,
   "metadata": {},
   "outputs": [
    {
     "name": "stdout",
     "output_type": "stream",
     "text": [
      "44\n",
      "2\n",
      "[4, 8]\n",
      "[99, 4, 8, 89, 57, 2]\n"
     ]
    }
   ],
   "source": [
    "#Lists are defined by enclosed square brackets and contain comma separated elements\n",
    "my_list = [44,4,8,89,57,2]\n",
    "\n",
    "#Lists indexing starts at 0\n",
    "print(my_list[0])\n",
    "\n",
    "#We can also index a list in the reverse direction starting with -1\n",
    "print(my_list[-1])\n",
    "\n",
    "#Lists can be sliced by the syntax [x:y], this takes a slice from element x to element y (y is excluded)\n",
    "print(my_list[1:3])\n",
    "\n",
    "# We can change elements in our list\n",
    "my_list[0] = 99\n",
    "print(my_list)\n"
   ]
  },
  {
   "cell_type": "code",
   "execution_count": 199,
   "metadata": {},
   "outputs": [
    {
     "name": "stdout",
     "output_type": "stream",
     "text": [
      "[99, 4, 8, 89, 57, 2, 6]\n",
      "Help on list object:\n",
      "\n",
      "class list(object)\n",
      " |  list(iterable=(), /)\n",
      " |  \n",
      " |  Built-in mutable sequence.\n",
      " |  \n",
      " |  If no argument is given, the constructor creates a new empty list.\n",
      " |  The argument must be an iterable if specified.\n",
      " |  \n",
      " |  Methods defined here:\n",
      " |  \n",
      " |  __add__(self, value, /)\n",
      " |      Return self+value.\n",
      " |  \n",
      " |  __contains__(self, key, /)\n",
      " |      Return key in self.\n",
      " |  \n",
      " |  __delitem__(self, key, /)\n",
      " |      Delete self[key].\n",
      " |  \n",
      " |  __eq__(self, value, /)\n",
      " |      Return self==value.\n",
      " |  \n",
      " |  __ge__(self, value, /)\n",
      " |      Return self>=value.\n",
      " |  \n",
      " |  __getattribute__(self, name, /)\n",
      " |      Return getattr(self, name).\n",
      " |  \n",
      " |  __getitem__(...)\n",
      " |      x.__getitem__(y) <==> x[y]\n",
      " |  \n",
      " |  __gt__(self, value, /)\n",
      " |      Return self>value.\n",
      " |  \n",
      " |  __iadd__(self, value, /)\n",
      " |      Implement self+=value.\n",
      " |  \n",
      " |  __imul__(self, value, /)\n",
      " |      Implement self*=value.\n",
      " |  \n",
      " |  __init__(self, /, *args, **kwargs)\n",
      " |      Initialize self.  See help(type(self)) for accurate signature.\n",
      " |  \n",
      " |  __iter__(self, /)\n",
      " |      Implement iter(self).\n",
      " |  \n",
      " |  __le__(self, value, /)\n",
      " |      Return self<=value.\n",
      " |  \n",
      " |  __len__(self, /)\n",
      " |      Return len(self).\n",
      " |  \n",
      " |  __lt__(self, value, /)\n",
      " |      Return self<value.\n",
      " |  \n",
      " |  __mul__(self, value, /)\n",
      " |      Return self*value.\n",
      " |  \n",
      " |  __ne__(self, value, /)\n",
      " |      Return self!=value.\n",
      " |  \n",
      " |  __repr__(self, /)\n",
      " |      Return repr(self).\n",
      " |  \n",
      " |  __reversed__(self, /)\n",
      " |      Return a reverse iterator over the list.\n",
      " |  \n",
      " |  __rmul__(self, value, /)\n",
      " |      Return value*self.\n",
      " |  \n",
      " |  __setitem__(self, key, value, /)\n",
      " |      Set self[key] to value.\n",
      " |  \n",
      " |  __sizeof__(self, /)\n",
      " |      Return the size of the list in memory, in bytes.\n",
      " |  \n",
      " |  append(self, object, /)\n",
      " |      Append object to the end of the list.\n",
      " |  \n",
      " |  clear(self, /)\n",
      " |      Remove all items from list.\n",
      " |  \n",
      " |  copy(self, /)\n",
      " |      Return a shallow copy of the list.\n",
      " |  \n",
      " |  count(self, value, /)\n",
      " |      Return number of occurrences of value.\n",
      " |  \n",
      " |  extend(self, iterable, /)\n",
      " |      Extend list by appending elements from the iterable.\n",
      " |  \n",
      " |  index(self, value, start=0, stop=9223372036854775807, /)\n",
      " |      Return first index of value.\n",
      " |      \n",
      " |      Raises ValueError if the value is not present.\n",
      " |  \n",
      " |  insert(self, index, object, /)\n",
      " |      Insert object before index.\n",
      " |  \n",
      " |  pop(self, index=-1, /)\n",
      " |      Remove and return item at index (default last).\n",
      " |      \n",
      " |      Raises IndexError if list is empty or index is out of range.\n",
      " |  \n",
      " |  remove(self, value, /)\n",
      " |      Remove first occurrence of value.\n",
      " |      \n",
      " |      Raises ValueError if the value is not present.\n",
      " |  \n",
      " |  reverse(self, /)\n",
      " |      Reverse *IN PLACE*.\n",
      " |  \n",
      " |  sort(self, /, *, key=None, reverse=False)\n",
      " |      Stable sort *IN PLACE*.\n",
      " |  \n",
      " |  ----------------------------------------------------------------------\n",
      " |  Static methods defined here:\n",
      " |  \n",
      " |  __new__(*args, **kwargs) from builtins.type\n",
      " |      Create and return a new object.  See help(type) for accurate signature.\n",
      " |  \n",
      " |  ----------------------------------------------------------------------\n",
      " |  Data and other attributes defined here:\n",
      " |  \n",
      " |  __hash__ = None\n",
      "\n"
     ]
    }
   ],
   "source": [
    "#Because my_list is an object of the Python class list it has several methods\n",
    "#Methods are functions that belong to an object\n",
    "#Methods can be accessed by typing the object name followed by a . and then the method name and brackets () that we can place arguments in\n",
    "\n",
    "my_list.append(6)\n",
    "print(my_list)\n",
    "\n",
    "#There are many other list methods, which we can see with the built in help() function\n",
    "help(my_list)"
   ]
  },
  {
   "cell_type": "markdown",
   "metadata": {},
   "source": [
    "# Dictionaries"
   ]
  },
  {
   "cell_type": "code",
   "execution_count": 200,
   "metadata": {},
   "outputs": [
    {
     "name": "stdout",
     "output_type": "stream",
     "text": [
      "python\n",
      "{'language': 'R', 'coding': 'program'}\n",
      "{'language': 'R', 'coding': 'program', 'members': 30}\n"
     ]
    }
   ],
   "source": [
    "#A dictionary is an unordered collection of key and value pairs. Dictionaries are defined by curly brackets\n",
    "my_dictionary = {\"language\" : \"python\", \"coding\" : \"program\"}\n",
    "#Dictionary values are accessed by the dictionary name followed by the key in square brackets\n",
    "print(my_dictionary['language'])\n",
    "#We can assign a new value to an existing key.\n",
    "my_dictionary['language'] = 'R'\n",
    "print(my_dictionary)\n",
    "#Using a similar syntax we add new key value pairs\n",
    "my_dictionary['members'] = 30\n",
    "print(my_dictionary)"
   ]
  },
  {
   "cell_type": "markdown",
   "metadata": {},
   "source": [
    "# Functions"
   ]
  },
  {
   "cell_type": "code",
   "execution_count": null,
   "metadata": {},
   "outputs": [],
   "source": [
    "def function_name(values the function accepts):\n",
    "    body of the function\n",
    "    return some value (optional)"
   ]
  },
  {
   "cell_type": "code",
   "execution_count": 204,
   "metadata": {},
   "outputs": [],
   "source": [
    "'''\n",
    "Triple Quotes \n",
    "is used \n",
    "for multi-line \n",
    "comments\n",
    "'''\n",
    "\n",
    "\n",
    "def my_function(v):\n",
    "    print(\"Hello world!\")"
   ]
  },
  {
   "cell_type": "code",
   "execution_count": 202,
   "metadata": {},
   "outputs": [
    {
     "name": "stdout",
     "output_type": "stream",
     "text": [
      "Hello world!\n"
     ]
    }
   ],
   "source": [
    "my_function()"
   ]
  },
  {
   "cell_type": "code",
   "execution_count": 205,
   "metadata": {},
   "outputs": [
    {
     "name": "stdout",
     "output_type": "stream",
     "text": [
      "Hello world!\n"
     ]
    }
   ],
   "source": [
    "my_function(89)"
   ]
  },
  {
   "cell_type": "code",
   "execution_count": 206,
   "metadata": {},
   "outputs": [],
   "source": [
    "def add_numbers(x,y):\n",
    "    return x+y"
   ]
  },
  {
   "cell_type": "code",
   "execution_count": 207,
   "metadata": {},
   "outputs": [
    {
     "data": {
      "text/plain": [
       "11"
      ]
     },
     "execution_count": 207,
     "metadata": {},
     "output_type": "execute_result"
    }
   ],
   "source": [
    "add_numbers(5,6)"
   ]
  },
  {
   "cell_type": "code",
   "execution_count": 208,
   "metadata": {},
   "outputs": [
    {
     "name": "stdout",
     "output_type": "stream",
     "text": [
      "9.3\n"
     ]
    }
   ],
   "source": [
    "x = add_numbers(3.3,6)\n",
    "print(x)"
   ]
  },
  {
   "cell_type": "code",
   "execution_count": 209,
   "metadata": {},
   "outputs": [
    {
     "name": "stdout",
     "output_type": "stream",
     "text": [
      "Mom\n",
      "Dad\n",
      "cat\n",
      "dog\n"
     ]
    }
   ],
   "source": [
    "def print_list(incoming, coolstuff):\n",
    "    for i in incoming:\n",
    "        print(i)\n",
    "\n",
    "print_list((\"Mom\",\"Dad\",\"cat\",\"dog\"),(\"jordan\",\"math\"))"
   ]
  },
  {
   "cell_type": "code",
   "execution_count": 211,
   "metadata": {},
   "outputs": [],
   "source": [
    "def foo(x):\n",
    "    a=np.sin(x/2)\n",
    "    b=np.floor(x)\n",
    "    c=round(x)**round(x)\n",
    "    print('a = {:.4f}, b = {:.0f}, c = {:d}'.format(a,b,c))"
   ]
  },
  {
   "cell_type": "code",
   "execution_count": 212,
   "metadata": {},
   "outputs": [
    {
     "name": "stdout",
     "output_type": "stream",
     "text": [
      "a = 1.0000, b = 3, c = 27\n"
     ]
    }
   ],
   "source": [
    "foo(np.pi)"
   ]
  },
  {
   "cell_type": "markdown",
   "metadata": {},
   "source": [
    "# Plotting"
   ]
  },
  {
   "cell_type": "code",
   "execution_count": 213,
   "metadata": {},
   "outputs": [],
   "source": [
    "import matplotlib.pyplot as plt"
   ]
  },
  {
   "cell_type": "code",
   "execution_count": 214,
   "metadata": {},
   "outputs": [],
   "source": [
    "X=[2*x for x in np.arange(0,5)] #np.arange(0,5)=0,1,2,3,4\n",
    "Y=[y**2 for y in np.linspace(0,5,5)] #np.linspace(0,5,5)=0,5/4,10/4,15/4,20/4=0,1.25,2.5,3.75,5"
   ]
  },
  {
   "cell_type": "code",
   "execution_count": 215,
   "metadata": {},
   "outputs": [
    {
     "data": {
      "text/plain": [
       "[0, 2, 4, 6, 8]"
      ]
     },
     "execution_count": 215,
     "metadata": {},
     "output_type": "execute_result"
    }
   ],
   "source": [
    "X"
   ]
  },
  {
   "cell_type": "code",
   "execution_count": 216,
   "metadata": {},
   "outputs": [
    {
     "data": {
      "text/plain": [
       "[0.0, 1.5625, 6.25, 14.0625, 25.0]"
      ]
     },
     "execution_count": 216,
     "metadata": {},
     "output_type": "execute_result"
    }
   ],
   "source": [
    "Y"
   ]
  },
  {
   "cell_type": "code",
   "execution_count": 217,
   "metadata": {},
   "outputs": [
    {
     "data": {
      "image/png": "[encoded data removed]",
      "text/plain": [
       "<Figure size 432x288 with 1 Axes>"
      ]
     },
     "metadata": {
      "needs_background": "light"
     },
     "output_type": "display_data"
    },
    {
     "data": {
      "image/png": "[encoded data removed]",
      "text/plain": [
       "<Figure size 432x288 with 1 Axes>"
      ]
     },
     "metadata": {
      "needs_background": "light"
     },
     "output_type": "display_data"
    }
   ],
   "source": [
    "plt.plot(X,Y,color='k',linewidth=12)\n",
    "plt.show()\n",
    "\n",
    "plt.scatter(X,Y,color='r',s=180) #s=size\n",
    "plt.show()"
   ]
  },
  {
   "cell_type": "code",
   "execution_count": 218,
   "metadata": {},
   "outputs": [
    {
     "data": {
      "image/png": "[encoded data removed]",
      "text/plain": [
       "<Figure size 1332x756 with 1 Axes>"
      ]
     },
     "metadata": {
      "needs_background": "light"
     },
     "output_type": "display_data"
    }
   ],
   "source": [
    "t=np.linspace(0,125)\n",
    "\n",
    "def foo2(t):\n",
    "    sol=np.log(t+1)+.5\n",
    "    return sol\n",
    "\n",
    "xsol=foo2(t)\n",
    "ysol=foo2(2*t)\n",
    "\n",
    "plt.plot(t,xsol,'b',label='x(t)',linestyle='-.') #plot x solution\n",
    "plt.plot(t,ysol,'r',label=\"y(t)\",marker='o',markersize=22) # plot y solution\n",
    "\n",
    "plt.legend(loc='best',fontsize=20) # plot legend\n",
    "plt.xlabel('Time',fontsize=20,color='green') # x axis label\n",
    "plt.ylabel('Solutions',fontsize=24) #y axis label\n",
    "plt.grid() # plot gridlines\n",
    "plt.yticks(()) #y axis tick labels\n",
    "plt.xticks((0,25,50,75,100,125),[0,2.5,10/2,7.5,'Ten',int(12.5)],fontsize=28) #x axis tick labels\n",
    "fig = plt.gcf() #Get the current figure\n",
    "fig.set_size_inches(18.5, 10.5) #resize figure\n",
    "plt.title('Title' ,pad=35,fontsize=30) #Title \n",
    "plt.annotate('Label', xy=(11, 3.2), xytext=(3, 5), arrowprops=dict(facecolor='black'),fontsize=20)\n",
    "#plt.savefig('plot1.png') #how to save figure into local folder\n",
    "plt.show()"
   ]
  },
  {
   "cell_type": "markdown",
   "metadata": {},
   "source": [
    "# Linear Algebra"
   ]
  },
  {
   "cell_type": "code",
   "execution_count": 219,
   "metadata": {},
   "outputs": [
    {
     "name": "stdout",
     "output_type": "stream",
     "text": [
      "EigenValues of A \n",
      " [1.28222597+0.j 0.25868959+0.j]\n",
      "Solves Ax=B \n",
      " x=  [-4.70048228  6.57671362]\n",
      "A =\n",
      " [[0.90748828 0.47501535]\n",
      " [0.51183467 0.63342728]] \n",
      "\n",
      "A transpose =\n",
      " [[0.90748828 0.51183467]\n",
      " [0.47501535 0.63342728]]\n",
      "\n",
      " DA= \n",
      " [[1.08550971 0.75528091]\n",
      " [0.75528091 0.6268697 ]]\n"
     ]
    }
   ],
   "source": [
    "import scipy.linalg as la # import scipy's linear algebra package\n",
    "\n",
    "B=np.zeros(2) #array of 2 zeros\n",
    "C=np.ones(2) # array of 2 ones\n",
    "F=[np.pi,0.24]\n",
    "B=2*C-F\n",
    "A=np.random.rand(2,2) #2x2 matrix of random numbers from [0,1)\n",
    "\n",
    "print(\"EigenValues of A \\n\",la.eigvals(A)) #prints eigenvalues of A\n",
    "print(\"Solves Ax=B \\n x= \", la.solve(A,B)) # Solves A*x=B for x\n",
    "\n",
    "D=np.matrix.transpose(A) #D is Transpose of A using numpy matrix computation\n",
    "\n",
    "print(\"A =\\n\",A,\"\\n\")\n",
    "print(\"A transpose =\\n\",D)\n",
    "\n",
    "E=np.matmul(D,A) # E is matrix product of D and A using numpy matrix multiplication\n",
    "print('\\n DA= \\n',E)"
   ]
  },
  {
   "cell_type": "code",
   "execution_count": 220,
   "metadata": {},
   "outputs": [
    {
     "data": {
      "text/plain": [
       "array([[[0., 0., 0., 0.],\n",
       "        [0., 0., 0., 0.]],\n",
       "\n",
       "       [[0., 0., 0., 0.],\n",
       "        [0., 0., 0., 0.]],\n",
       "\n",
       "       [[0., 0., 0., 0.],\n",
       "        [0., 0., 0., 0.]]])"
      ]
     },
     "execution_count": 220,
     "metadata": {},
     "output_type": "execute_result"
    }
   ],
   "source": [
    "#For a multi-dimensional array\n",
    "M1=np.zeros((3,2,4)) # 3 zero matrices of size 2x4\n",
    "M1\n"
   ]
  },
  {
   "cell_type": "code",
   "execution_count": 221,
   "metadata": {},
   "outputs": [
    {
     "data": {
      "text/plain": [
       "array([[[1., 1., 1., 1.],\n",
       "        [1., 1., 1., 1.]],\n",
       "\n",
       "       [[1., 1., 1., 1.],\n",
       "        [1., 1., 1., 1.]],\n",
       "\n",
       "       [[1., 1., 1., 1.],\n",
       "        [1., 1., 1., 1.]]])"
      ]
     },
     "execution_count": 221,
     "metadata": {},
     "output_type": "execute_result"
    }
   ],
   "source": [
    "M2=np.ones((3,2,4))\n",
    "M2"
   ]
  },
  {
   "cell_type": "code",
   "execution_count": 222,
   "metadata": {},
   "outputs": [
    {
     "data": {
      "text/plain": [
       "array([[[1.        , 1.        , 1.        , 1.        ],\n",
       "        [1.        , 1.        , 1.        , 1.        ]],\n",
       "\n",
       "       [[0.20782053, 0.27214844, 0.21871494, 1.3256243 ],\n",
       "        [1.40673343, 0.23745227, 1.80671654, 0.37458787]],\n",
       "\n",
       "       [[1.        , 1.        , 1.        , 1.        ],\n",
       "        [1.        , 1.        , 1.        , 1.        ]]])"
      ]
     },
     "execution_count": 222,
     "metadata": {},
     "output_type": "execute_result"
    }
   ],
   "source": [
    "M2[1,:,:]=2*np.random.rand(2,4) #remember, index start at 0\n",
    "M2"
   ]
  },
  {
   "cell_type": "code",
   "execution_count": 223,
   "metadata": {},
   "outputs": [
    {
     "data": {
      "text/plain": [
       "array([[[2.        , 2.        , 2.        , 2.        ],\n",
       "        [2.        , 2.        , 2.        , 2.        ]],\n",
       "\n",
       "       [[0.41564107, 0.54429688, 0.43742988, 2.6512486 ],\n",
       "        [2.81346687, 0.47490455, 3.61343308, 0.74917574]],\n",
       "\n",
       "       [[2.        , 2.        , 2.        , 2.        ],\n",
       "        [2.        , 2.        , 2.        , 2.        ]]])"
      ]
     },
     "execution_count": 223,
     "metadata": {},
     "output_type": "execute_result"
    }
   ],
   "source": [
    "M2=M2+M2\n",
    "M2"
   ]
  },
  {
   "cell_type": "code",
   "execution_count": 224,
   "metadata": {},
   "outputs": [
    {
     "data": {
      "text/plain": [
       "0.4749045460370307"
      ]
     },
     "execution_count": 224,
     "metadata": {},
     "output_type": "execute_result"
    }
   ],
   "source": [
    "M2[1,1,1]"
   ]
  },
  {
   "cell_type": "markdown",
   "metadata": {},
   "source": [
    "# Pandas"
   ]
  },
  {
   "cell_type": "code",
   "execution_count": 225,
   "metadata": {},
   "outputs": [],
   "source": [
    "import pandas as pd"
   ]
  },
  {
   "cell_type": "markdown",
   "metadata": {},
   "source": [
    "https://www.w3schools.com/python/pandas/"
   ]
  },
  {
   "cell_type": "code",
   "execution_count": null,
   "metadata": {},
   "outputs": [],
   "source": [
    "#A series is like a column in a table.\n",
    "#It is a one-dimensional array holding data of any type.\n",
    "a = [1, 7, 2, 5, np.nan, 8 , 9] \n",
    "\n",
    "myvar = pd.Series(a)\n",
    "\n",
    "print(myvar)"
   ]
  },
  {
   "cell_type": "code",
   "execution_count": null,
   "metadata": {},
   "outputs": [],
   "source": [
    "# With the index argument, you can name your own labels.\n",
    "\n",
    "a = [1, 7, 2] \n",
    "\n",
    "myvar = pd.Series(a, index = [\"x\", \"y\", \"z\"])\n",
    "\n",
    "print(myvar)\n",
    "# When you have created labels\n",
    "# you can access an item by referring to the label.\n",
    "print(myvar[\"y\"])"
   ]
  },
  {
   "cell_type": "code",
   "execution_count": null,
   "metadata": {},
   "outputs": [],
   "source": [
    "# You can also use a key/value object, \n",
    "# like a dictionary, when creating a Series.\n",
    "\n",
    "calories = {\"day1\": 420, \"day2\": 380, \"day3\": 390}\n",
    "\n",
    "myvar = pd.Series(calories)\n",
    "\n",
    "print(myvar)"
   ]
  },
  {
   "cell_type": "code",
   "execution_count": null,
   "metadata": {},
   "outputs": [],
   "source": [
    "#Create a Series using only data from \"day1\" and \"day2\":\n",
    "\n",
    "calories = {\"day1\": 420, \"day2\": 380, \"day3\": 390}\n",
    "\n",
    "myvar = pd.Series(calories, index = [\"day1\", \"day2\"])\n",
    "\n",
    "print(myvar)"
   ]
  },
  {
   "cell_type": "code",
   "execution_count": null,
   "metadata": {},
   "outputs": [],
   "source": [
    "# Data sets in Pandas are usually multi-dimensional tables\n",
    "# called DataFrames.\n",
    "\n",
    "#Series is like a column, a DataFrame is the whole table.\n",
    "\n",
    "data = {\n",
    "  \"calories\": [420, 380, 390],\n",
    "  \"duration\": [50, 40, 45]\n",
    "}\n",
    "\n",
    "df = pd.DataFrame(data)\n",
    "\n",
    "print(df)"
   ]
  },
  {
   "cell_type": "code",
   "execution_count": null,
   "metadata": {},
   "outputs": [],
   "source": [
    "# As you can see from the result above,\n",
    "# the DataFrame is like a table with rows and columns.\n",
    "\n",
    "#Pandas use the loc attribute to return one or more specified row(s)\n",
    "\n",
    "#refer to the row index:\n",
    "print(df.loc[0])"
   ]
  },
  {
   "cell_type": "code",
   "execution_count": null,
   "metadata": {},
   "outputs": [],
   "source": [
    "#Return row 0 and 1\n",
    "#use a list of indexes:\n",
    "print(df.loc[[0, 1]])"
   ]
  },
  {
   "cell_type": "code",
   "execution_count": null,
   "metadata": {},
   "outputs": [],
   "source": [
    "#With the index argument, you can name your own indexes.\n",
    "#Add a list of names to give each row a name:\n",
    "\n",
    "data = {\n",
    "  \"calories\": [420, 380, 390],\n",
    "  \"duration\": [50, 40, 45]\n",
    "}\n",
    "\n",
    "df = pd.DataFrame(data, index = [\"day1\", \"day2\", \"day3\"])\n",
    "\n",
    "print(df) "
   ]
  },
  {
   "cell_type": "code",
   "execution_count": null,
   "metadata": {},
   "outputs": [],
   "source": [
    "# Use the named index in the loc attribute \n",
    "# to return the specified row(s).\n",
    "\n",
    "#refer to the named index:\n",
    "print(df.loc[\"day2\"])"
   ]
  },
  {
   "cell_type": "code",
   "execution_count": null,
   "metadata": {},
   "outputs": [],
   "source": [
    "dates = pd.date_range(\"20130101\", periods=9)\n",
    "print(dates)"
   ]
  },
  {
   "cell_type": "code",
   "execution_count": null,
   "metadata": {},
   "outputs": [],
   "source": [
    "df = pd.DataFrame(np.random.randn(9, 4), index=dates, columns=list(\"ABCD\"))\n",
    "print(df)"
   ]
  },
  {
   "cell_type": "code",
   "execution_count": null,
   "metadata": {},
   "outputs": [],
   "source": [
    "df2 = pd.DataFrame({\n",
    "   \"A\": 1.0,\n",
    "   \"B\": pd.Timestamp(\"20130102\"),\n",
    "   \"C\": pd.Series(1, index=list(range(4)), dtype=\"float32\"),\n",
    "   \"D\": np.array([3] * 4, dtype=\"int32\"),\n",
    "   \"E\": pd.Categorical([\"test\", \"train\", \"test\", \"train\"]),\n",
    "   \"F\": \"foo\",})\n",
    "print(df2)"
   ]
  },
  {
   "cell_type": "code",
   "execution_count": null,
   "metadata": {},
   "outputs": [],
   "source": [
    "df2.dtypes"
   ]
  },
  {
   "cell_type": "code",
   "execution_count": null,
   "metadata": {},
   "outputs": [],
   "source": [
    "# One of the most used method for getting a \n",
    "# quick overview of the DataFrame, is the head() method.\n",
    "\n",
    "#The head() method returns the headers \n",
    "# and a specified number of rows, starting from the top.\n",
    "\n",
    "print(df.head(4))"
   ]
  },
  {
   "cell_type": "code",
   "execution_count": null,
   "metadata": {},
   "outputs": [],
   "source": [
    "#There is also a tail() method for viewing the \n",
    "# last rows of the DataFrame.\n",
    "\n",
    "#The tail() method returns the headers \n",
    "#and a specified number of rows, starting from the bottom.\n",
    "\n",
    "print(df.tail(4))"
   ]
  },
  {
   "cell_type": "code",
   "execution_count": null,
   "metadata": {},
   "outputs": [],
   "source": [
    "# The DataFrames object has a method called info(), \n",
    "# that gives you more information about the data set.\n",
    "\n",
    "print(df.info()) "
   ]
  },
  {
   "cell_type": "code",
   "execution_count": null,
   "metadata": {},
   "outputs": [],
   "source": [
    "# Pandas uses the mean() median() and mode() methods to \n",
    "# calculate the respective values for a specified column:\n",
    "\n",
    "df[\"A\"].mean()"
   ]
  },
  {
   "cell_type": "code",
   "execution_count": null,
   "metadata": {},
   "outputs": [],
   "source": [
    "# one last trick in Jupyter (which also works in iPython, such as in the terminal)\n",
    "xyz=2\n",
    "xyz #displays xyz as output"
   ]
  },
  {
   "cell_type": "code",
   "execution_count": null,
   "metadata": {},
   "outputs": [],
   "source": [
    "zyx=2*Out[169]\n",
    "zyx"
   ]
  },
  {
   "cell_type": "code",
   "execution_count": null,
   "metadata": {},
   "outputs": [],
   "source": []
  }
 ],
 "metadata": {
  "kernelspec": {
   "display_name": "Python 3",
   "language": "python",
   "name": "python3"
  },
  "language_info": {
   "codemirror_mode": {
    "name": "ipython",
    "version": 3
   },
   "file_extension": ".py",
   "mimetype": "text/x-python",
   "name": "python",
   "nbconvert_exporter": "python",
   "pygments_lexer": "ipython3",
   "version": "3.7.6"
  }
 },
 "nbformat": 4,
 "nbformat_minor": 4
}
